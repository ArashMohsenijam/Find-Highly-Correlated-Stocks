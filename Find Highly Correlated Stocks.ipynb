{
 "cells": [
  {
   "cell_type": "markdown",
   "metadata": {},
   "source": [
    "# Find Highly Correlated Stocks with Python!"
   ]
  },
  {
   "cell_type": "markdown",
   "metadata": {},
   "source": [
    "### 1. Import proper libraries"
   ]
  },
  {
   "cell_type": "code",
   "execution_count": 6,
   "metadata": {},
   "outputs": [],
   "source": [
    "import numpy as np\n",
    "import warnings\n",
    "from pandas_datareader import data as pdr\n",
    "import yfinance as yf\n",
    "import datetime as dt\n",
    "from yahoo_fin import stock_info as si\n",
    "import pandas as pd\n",
    "\n",
    "pd.set_option('display.max_rows', None)\n",
    "warnings.filterwarnings(\"ignore\")\n",
    "yf.pdr_override()\n",
    "\n",
    "num_of_years = 1\n",
    "start = dt.date.today() - dt.timedelta(days = int(365.25*num_of_years))\n",
    "end = dt.date.today()\n",
    "\n",
    "tickers = ['RESI','EQB.TO','HOV','KBH','ZRE.TO','INVH','AMH','ZRE.TO']"
   ]
  },
  {
   "cell_type": "code",
   "execution_count": 7,
   "metadata": {},
   "outputs": [
    {
     "name": "stdout",
     "output_type": "stream",
     "text": [
      "[*********************100%***********************]  7 of 7 completed\n",
      "\n",
      "Correlation Matrix\n",
      "             AMH    EQB.TO       HOV      INVH       KBH      RESI    ZRE.TO\n",
      "AMH     1.000000  0.599272  0.429636  0.891906  0.547184  0.333646  0.621353\n",
      "EQB.TO  0.599272  1.000000  0.550150  0.672400  0.585785  0.350522  0.722456\n",
      "HOV     0.429636  0.550150  1.000000  0.557888  0.742233  0.329141  0.624497\n",
      "INVH    0.891906  0.672400  0.557888  1.000000  0.652454  0.438425  0.698147\n",
      "KBH     0.547184  0.585785  0.742233  0.652454  1.000000  0.349762  0.662398\n",
      "RESI    0.333646  0.350522  0.329141  0.438425  0.349762  1.000000  0.342702\n",
      "ZRE.TO  0.621353  0.722456  0.624497  0.698147  0.662398  0.342702  1.000000\n"
     ]
    }
   ],
   "source": [
    "dataset = pdr.get_data_yahoo(tickers, start, end)['Adj Close']\n",
    "stocks_returns = np.log(dataset/dataset.shift(1))\n",
    "\n",
    "print('\\nCorrelation Matrix')\n",
    "corr_matrix = stocks_returns.corr()\n",
    "print (corr_matrix)"
   ]
  },
  {
   "cell_type": "code",
   "execution_count": null,
   "metadata": {},
   "outputs": [],
   "source": []
  },
  {
   "cell_type": "code",
   "execution_count": 8,
   "metadata": {},
   "outputs": [
    {
     "name": "stdout",
     "output_type": "stream",
     "text": [
      "\n",
      "Top Absolute Correlations\n",
      "AMH     INVH      0.891906\n",
      "HOV     KBH       0.742233\n",
      "EQB.TO  ZRE.TO    0.722456\n",
      "INVH    ZRE.TO    0.698147\n",
      "EQB.TO  INVH      0.672400\n",
      "KBH     ZRE.TO    0.662398\n",
      "INVH    KBH       0.652454\n",
      "HOV     ZRE.TO    0.624497\n",
      "AMH     ZRE.TO    0.621353\n",
      "        EQB.TO    0.599272\n",
      "EQB.TO  KBH       0.585785\n",
      "HOV     INVH      0.557888\n",
      "EQB.TO  HOV       0.550150\n",
      "AMH     KBH       0.547184\n",
      "INVH    RESI      0.438425\n",
      "AMH     HOV       0.429636\n",
      "EQB.TO  RESI      0.350522\n",
      "KBH     RESI      0.349762\n",
      "RESI    ZRE.TO    0.342702\n",
      "AMH     RESI      0.333646\n",
      "HOV     RESI      0.329141\n",
      "dtype: float64\n"
     ]
    }
   ],
   "source": [
    "\n",
    "def get_redundant_pairs(df):\n",
    "    pairs_to_drop = set()\n",
    "    cols = df.columns\n",
    "    for i in range(0, df.shape[1]):\n",
    "        for j in range(0, i+1):\n",
    "            pairs_to_drop.add((cols[i], cols[j]))\n",
    "    return pairs_to_drop\n",
    "\n",
    "def get_top_abs_correlations(df):\n",
    "    au_corr = df.corr().abs().unstack()\n",
    "    labels_to_drop = get_redundant_pairs(df)\n",
    "    au_corr = au_corr.drop(labels=labels_to_drop).sort_values(ascending=False)\n",
    "    return au_corr\n",
    "\n",
    "print(\"\\nTop Absolute Correlations\")\n",
    "print(get_top_abs_correlations(stocks_returns))"
   ]
  },
  {
   "cell_type": "code",
   "execution_count": null,
   "metadata": {},
   "outputs": [],
   "source": []
  },
  {
   "cell_type": "code",
   "execution_count": null,
   "metadata": {},
   "outputs": [],
   "source": []
  },
  {
   "cell_type": "code",
   "execution_count": null,
   "metadata": {},
   "outputs": [],
   "source": []
  },
  {
   "cell_type": "code",
   "execution_count": null,
   "metadata": {},
   "outputs": [],
   "source": []
  },
  {
   "cell_type": "code",
   "execution_count": null,
   "metadata": {},
   "outputs": [],
   "source": []
  },
  {
   "cell_type": "code",
   "execution_count": null,
   "metadata": {},
   "outputs": [],
   "source": []
  },
  {
   "cell_type": "code",
   "execution_count": null,
   "metadata": {},
   "outputs": [],
   "source": []
  },
  {
   "cell_type": "code",
   "execution_count": null,
   "metadata": {},
   "outputs": [],
   "source": []
  },
  {
   "cell_type": "code",
   "execution_count": null,
   "metadata": {},
   "outputs": [],
   "source": []
  },
  {
   "cell_type": "code",
   "execution_count": null,
   "metadata": {},
   "outputs": [],
   "source": []
  }
 ],
 "metadata": {
  "kernelspec": {
   "display_name": "Python 3",
   "language": "python",
   "name": "python3"
  },
  "language_info": {
   "codemirror_mode": {
    "name": "ipython",
    "version": 3
   },
   "file_extension": ".py",
   "mimetype": "text/x-python",
   "name": "python",
   "nbconvert_exporter": "python",
   "pygments_lexer": "ipython3",
   "version": "3.7.4"
  }
 },
 "nbformat": 4,
 "nbformat_minor": 2
}
